{
 "cells": [
  {
   "cell_type": "markdown",
   "metadata": {},
   "source": [
    "The purpose of this notebook is to demonstrate the functionality of the `VARReduce` model from sktime. We will compare its performance with the traditional `VAR` model to highlight their similar behavior under default settings. Additionally, we will showcase how `VARReduce` can be leveraged for regularization in scenarios involving large time series datasets, offering enhanced model performance and robustness."
   ]
  },
  {
   "cell_type": "code",
   "execution_count": 1,
   "metadata": {},
   "outputs": [],
   "source": [
    "# Suppress all warnings\n",
    "import warnings\n",
    "\n",
    "import numpy as np\n",
    "import pandas as pd\n",
    "from statsmodels.tsa.api import VAR\n",
    "\n",
    "from sktime.forecasting.base import ForecastingHorizon\n",
    "from sktime.forecasting.model_selection import temporal_train_test_split\n",
    "from sktime.forecasting.var_reduce import VARReduce\n",
    "from sktime.performance_metrics.forecasting import mean_absolute_percentage_error\n",
    "\n",
    "warnings.filterwarnings(\"ignore\")"
   ]
  },
  {
   "cell_type": "code",
   "execution_count": 2,
   "metadata": {},
   "outputs": [],
   "source": [
    "%load_ext autoreload\n",
    "%autoreload 2"
   ]
  },
  {
   "cell_type": "markdown",
   "metadata": {},
   "source": [
    "# Data Generation"
   ]
  },
  {
   "cell_type": "markdown",
   "metadata": {},
   "source": [
    "To perform the comparison between `VAR` and `VARReduce`, we first generate a small synthetic multivariate time series dataset. \n",
    "\n",
    "We create three time series, each with 100 observations, and store them in a DataFrame. \n",
    "\n",
    "We then split the data into training and testing sets, reserving the last 5 observations for testing."
   ]
  },
  {
   "cell_type": "code",
   "execution_count": 3,
   "metadata": {},
   "outputs": [],
   "source": [
    "np.random.seed(42)\n",
    "n_obs = 100\n",
    "time_series_1 = np.random.randn(n_obs) + 1000\n",
    "time_series_2 = np.random.randn(n_obs) + 100\n",
    "time_series_3 = np.random.randn(n_obs) + 10\n",
    "\n",
    "df = pd.DataFrame(\n",
    "    {\n",
    "        \"ts1\": time_series_1,\n",
    "        \"ts2\": time_series_2,\n",
    "        \"ts3\": time_series_3,\n",
    "    }\n",
    ")\n",
    "\n",
    "# Split the data into training and testing sets\n",
    "df_train, df_test = temporal_train_test_split(df, test_size=5)\n",
    "\n",
    "# Define the forecasting horizon\n",
    "fh = ForecastingHorizon(df_test.index, is_relative=False)"
   ]
  },
  {
   "cell_type": "markdown",
   "metadata": {},
   "source": [
    "# Model Introduction"
   ]
  },
  {
   "cell_type": "markdown",
   "metadata": {},
   "source": [
    "The `VARReduce` model applies Vector Autoregression (VAR) with optional regularization. \n",
    "It operates by converting multivariate time series data into a tabular format suitable for regression models. By default, `VARReduce` uses `scikit-learn`'s `LinearRegression` to perform the fitting and behaves like a traditional VAR model. However, users can specify other `scikit-learn` compatible regressors to introduce regularization, enhancing performance for large datasets or when multicollinearity is present.\n",
    "\n",
    "Here's how the `VARReduce` model works step-by-step:\n",
    "\n",
    "1. Data Preparation: The time series data is transformed into a format where each row contains lagged values of the series, turning it into a tabular dataset.\n",
    "2. Model Fitting: The model uses the specified regressor to fit the lagged values as predictors and the current values as the response variable.\n",
    "3. Forecasting: The fitted model is used to forecast future values based on the most recent observations.\n",
    "\n",
    "To demonstrate the intermediate DataFrame generated during the data preparation step, we'll take a peep at the internal `prepare_var_data` method from the `VARReduce` class."
   ]
  },
  {
   "cell_type": "code",
   "execution_count": 4,
   "metadata": {},
   "outputs": [],
   "source": [
    "# Define lags\n",
    "LAGS = 2\n",
    "\n",
    "# Instantiate and fit the custom VARReduce model\n",
    "varreduce_model = VARReduce(\n",
    "    lags=LAGS\n",
    ")  # no regressor passed, by default, LinearRegressor() will be used\n",
    "varreduce_model.fit(df_train)\n",
    "\n",
    "# Fit the VAR model comparison\n",
    "var_model = VAR(endog=df_train)\n",
    "\n",
    "# Fit the VAR model using statsmodels for comparison\n",
    "var_model = VAR(df_train)\n",
    "results = var_model.fit(LAGS)"
   ]
  },
  {
   "cell_type": "markdown",
   "metadata": {},
   "source": [
    "\n",
    "We observe that internally, `VARReduce` transforms the provided training data into a tabular format suitable for regression. Specifically:\n",
    "\n",
    "1. **Predictors (X)**: The predictors consist of lagged values of the time series, with the number of lags specified by the `lags` parameter. In the displayed DataFrame, each column represents a lagged value for one of the time series (e.g., `ts1_lag1`, `ts2_lag2`).\n",
    "\n",
    "2. **Target Variables (y)**: The target variables are the current, unlagged values of the time series, shown in columns such as `ts1_lag0`, `ts2_lag0`, and `ts3_lag0`.\n",
    "\n"
   ]
  },
  {
   "cell_type": "code",
   "execution_count": 5,
   "metadata": {},
   "outputs": [
    {
     "data": {
      "text/html": [
       "<div>\n",
       "<style scoped>\n",
       "    .dataframe tbody tr th:only-of-type {\n",
       "        vertical-align: middle;\n",
       "    }\n",
       "\n",
       "    .dataframe tbody tr th {\n",
       "        vertical-align: top;\n",
       "    }\n",
       "\n",
       "    .dataframe thead th {\n",
       "        text-align: right;\n",
       "    }\n",
       "</style>\n",
       "<table border=\"1\" class=\"dataframe\">\n",
       "  <thead>\n",
       "    <tr style=\"text-align: right;\">\n",
       "      <th></th>\n",
       "      <th>ts1_lag1</th>\n",
       "      <th>ts2_lag1</th>\n",
       "      <th>ts3_lag1</th>\n",
       "      <th>ts1_lag2</th>\n",
       "      <th>ts2_lag2</th>\n",
       "      <th>ts3_lag2</th>\n",
       "    </tr>\n",
       "  </thead>\n",
       "  <tbody>\n",
       "    <tr>\n",
       "      <th>2</th>\n",
       "      <td>999.861736</td>\n",
       "      <td>99.579355</td>\n",
       "      <td>10.560785</td>\n",
       "      <td>1000.496714</td>\n",
       "      <td>98.584629</td>\n",
       "      <td>10.357787</td>\n",
       "    </tr>\n",
       "    <tr>\n",
       "      <th>3</th>\n",
       "      <td>1000.647689</td>\n",
       "      <td>99.657285</td>\n",
       "      <td>11.083051</td>\n",
       "      <td>999.861736</td>\n",
       "      <td>99.579355</td>\n",
       "      <td>10.560785</td>\n",
       "    </tr>\n",
       "    <tr>\n",
       "      <th>4</th>\n",
       "      <td>1001.523030</td>\n",
       "      <td>99.197723</td>\n",
       "      <td>11.053802</td>\n",
       "      <td>1000.647689</td>\n",
       "      <td>99.657285</td>\n",
       "      <td>11.083051</td>\n",
       "    </tr>\n",
       "    <tr>\n",
       "      <th>5</th>\n",
       "      <td>999.765847</td>\n",
       "      <td>99.838714</td>\n",
       "      <td>8.622331</td>\n",
       "      <td>1001.523030</td>\n",
       "      <td>99.197723</td>\n",
       "      <td>11.053802</td>\n",
       "    </tr>\n",
       "    <tr>\n",
       "      <th>6</th>\n",
       "      <td>999.765863</td>\n",
       "      <td>100.404051</td>\n",
       "      <td>9.062175</td>\n",
       "      <td>999.765847</td>\n",
       "      <td>99.838714</td>\n",
       "      <td>8.622331</td>\n",
       "    </tr>\n",
       "  </tbody>\n",
       "</table>\n",
       "</div>"
      ],
      "text/plain": [
       "      ts1_lag1    ts2_lag1   ts3_lag1     ts1_lag2   ts2_lag2   ts3_lag2\n",
       "2   999.861736   99.579355  10.560785  1000.496714  98.584629  10.357787\n",
       "3  1000.647689   99.657285  11.083051   999.861736  99.579355  10.560785\n",
       "4  1001.523030   99.197723  11.053802  1000.647689  99.657285  11.083051\n",
       "5   999.765847   99.838714   8.622331  1001.523030  99.197723  11.053802\n",
       "6   999.765863  100.404051   9.062175   999.765847  99.838714   8.622331"
      ]
     },
     "execution_count": 5,
     "metadata": {},
     "output_type": "execute_result"
    }
   ],
   "source": [
    "X = varreduce_model.prepare_var_data(df_train, return_as_ndarray=False)[0]\n",
    "X.head()"
   ]
  },
  {
   "cell_type": "code",
   "execution_count": 6,
   "metadata": {},
   "outputs": [
    {
     "data": {
      "text/html": [
       "<div>\n",
       "<style scoped>\n",
       "    .dataframe tbody tr th:only-of-type {\n",
       "        vertical-align: middle;\n",
       "    }\n",
       "\n",
       "    .dataframe tbody tr th {\n",
       "        vertical-align: top;\n",
       "    }\n",
       "\n",
       "    .dataframe thead th {\n",
       "        text-align: right;\n",
       "    }\n",
       "</style>\n",
       "<table border=\"1\" class=\"dataframe\">\n",
       "  <thead>\n",
       "    <tr style=\"text-align: right;\">\n",
       "      <th></th>\n",
       "      <th>ts1_lag0</th>\n",
       "      <th>ts2_lag0</th>\n",
       "      <th>ts3_lag0</th>\n",
       "    </tr>\n",
       "  </thead>\n",
       "  <tbody>\n",
       "    <tr>\n",
       "      <th>2</th>\n",
       "      <td>1000.647689</td>\n",
       "      <td>99.657285</td>\n",
       "      <td>11.083051</td>\n",
       "    </tr>\n",
       "    <tr>\n",
       "      <th>3</th>\n",
       "      <td>1001.523030</td>\n",
       "      <td>99.197723</td>\n",
       "      <td>11.053802</td>\n",
       "    </tr>\n",
       "    <tr>\n",
       "      <th>4</th>\n",
       "      <td>999.765847</td>\n",
       "      <td>99.838714</td>\n",
       "      <td>8.622331</td>\n",
       "    </tr>\n",
       "    <tr>\n",
       "      <th>5</th>\n",
       "      <td>999.765863</td>\n",
       "      <td>100.404051</td>\n",
       "      <td>9.062175</td>\n",
       "    </tr>\n",
       "    <tr>\n",
       "      <th>6</th>\n",
       "      <td>1001.579213</td>\n",
       "      <td>101.886186</td>\n",
       "      <td>10.515035</td>\n",
       "    </tr>\n",
       "  </tbody>\n",
       "</table>\n",
       "</div>"
      ],
      "text/plain": [
       "      ts1_lag0    ts2_lag0   ts3_lag0\n",
       "2  1000.647689   99.657285  11.083051\n",
       "3  1001.523030   99.197723  11.053802\n",
       "4   999.765847   99.838714   8.622331\n",
       "5   999.765863  100.404051   9.062175\n",
       "6  1001.579213  101.886186  10.515035"
      ]
     },
     "execution_count": 6,
     "metadata": {},
     "output_type": "execute_result"
    }
   ],
   "source": [
    "y = varreduce_model.prepare_var_data(df_train, return_as_ndarray=False)[1]\n",
    "y.head()"
   ]
  },
  {
   "cell_type": "markdown",
   "metadata": {},
   "source": [
    "# Coefficient Comparison"
   ]
  },
  {
   "cell_type": "markdown",
   "metadata": {},
   "source": [
    "Once the data is prepared in this tabular format, `VARReduce` trains a regressor on it. By default, `LinearRegression` from scikit-learn is used as the regressor. Under these default conditions, the `VARReduce` model behaves just like a traditional VAR model. This means that the fitted coefficients and the resulting forecasts will be identical to those of a VAR model, as both are essentially performing linear regression on the same lagged data.\n",
    "\n",
    "This equivalence is demonstrated below:"
   ]
  },
  {
   "cell_type": "code",
   "execution_count": 7,
   "metadata": {},
   "outputs": [
    {
     "name": "stdout",
     "output_type": "stream",
     "text": [
      "Coefficients from VARReduce model:\n",
      "[[[-0.04379616 -0.14362626 -0.02868124]\n",
      "  [-0.02691002 -0.12388731 -0.09702357]\n",
      "  [-0.02884349 -0.12771343 -0.11331339]]\n",
      "\n",
      " [[-0.0488787  -0.0536462  -0.01244942]\n",
      "  [ 0.11919954 -0.05735081 -0.13221751]\n",
      "  [ 0.0930699   0.09744015 -0.0391535 ]]]\n",
      "\n",
      "Coefficients from statsmodels VAR:\n",
      "[[[-0.04379616 -0.14362626 -0.02868124]\n",
      "  [-0.02691002 -0.12388731 -0.09702357]\n",
      "  [-0.02884349 -0.12771343 -0.11331339]]\n",
      "\n",
      " [[-0.0488787  -0.0536462  -0.01244942]\n",
      "  [ 0.11919954 -0.05735081 -0.13221751]\n",
      "  [ 0.0930699   0.09744015 -0.0391535 ]]]\n"
     ]
    }
   ],
   "source": [
    "# Compare coefficients\n",
    "print(\"Coefficients from VARReduce model:\")\n",
    "print(varreduce_model.coefficients)\n",
    "print(\"\\nCoefficients from statsmodels VAR:\")\n",
    "print(results.coefs)"
   ]
  },
  {
   "cell_type": "markdown",
   "metadata": {},
   "source": [
    "# Forecast Comparison"
   ]
  },
  {
   "cell_type": "markdown",
   "metadata": {},
   "source": [
    "Given that the two models have essentially identical fitted parameters, it is unsurprising that their forecasts are also essentially identical:"
   ]
  },
  {
   "cell_type": "code",
   "execution_count": 8,
   "metadata": {},
   "outputs": [
    {
     "name": "stdout",
     "output_type": "stream",
     "text": [
      "Are the predictions from VARReduce and sktime VAR close?  True\n"
     ]
    }
   ],
   "source": [
    "# Generating forecasts from both models\n",
    "df_pred_varreduce = varreduce_model.predict(fh=fh)\n",
    "df_pred_statsmodels = results.forecast(df_train.values[-LAGS:], steps=len(fh))\n",
    "\n",
    "# Compare predictions using numpy's allclose function\n",
    "epsilon = 1e-8\n",
    "predictions_are_close = np.allclose(\n",
    "    df_pred_varreduce, df_pred_statsmodels, atol=epsilon\n",
    ")\n",
    "\n",
    "print(\n",
    "    \"Are the predictions from VARReduce and sktime VAR close? \", predictions_are_close\n",
    ")"
   ]
  },
  {
   "cell_type": "markdown",
   "metadata": {},
   "source": [
    "# Real World Data"
   ]
  },
  {
   "cell_type": "code",
   "execution_count": 9,
   "metadata": {},
   "outputs": [
    {
     "data": {
      "text/html": [
       "<div>\n",
       "<style scoped>\n",
       "    .dataframe tbody tr th:only-of-type {\n",
       "        vertical-align: middle;\n",
       "    }\n",
       "\n",
       "    .dataframe tbody tr th {\n",
       "        vertical-align: top;\n",
       "    }\n",
       "\n",
       "    .dataframe thead th {\n",
       "        text-align: right;\n",
       "    }\n",
       "</style>\n",
       "<table border=\"1\" class=\"dataframe\">\n",
       "  <thead>\n",
       "    <tr style=\"text-align: right;\">\n",
       "      <th></th>\n",
       "      <th>realgdp</th>\n",
       "      <th>realcons</th>\n",
       "      <th>realinv</th>\n",
       "      <th>realgovt</th>\n",
       "      <th>realdpi</th>\n",
       "      <th>cpi</th>\n",
       "      <th>m1</th>\n",
       "      <th>tbilrate</th>\n",
       "      <th>unemp</th>\n",
       "      <th>pop</th>\n",
       "      <th>infl</th>\n",
       "      <th>realint</th>\n",
       "    </tr>\n",
       "    <tr>\n",
       "      <th>date</th>\n",
       "      <th></th>\n",
       "      <th></th>\n",
       "      <th></th>\n",
       "      <th></th>\n",
       "      <th></th>\n",
       "      <th></th>\n",
       "      <th></th>\n",
       "      <th></th>\n",
       "      <th></th>\n",
       "      <th></th>\n",
       "      <th></th>\n",
       "      <th></th>\n",
       "    </tr>\n",
       "  </thead>\n",
       "  <tbody>\n",
       "    <tr>\n",
       "      <th>1959Q1</th>\n",
       "      <td>2710.349</td>\n",
       "      <td>1707.4</td>\n",
       "      <td>286.898</td>\n",
       "      <td>470.045</td>\n",
       "      <td>1886.9</td>\n",
       "      <td>28.98</td>\n",
       "      <td>139.7</td>\n",
       "      <td>2.82</td>\n",
       "      <td>5.8</td>\n",
       "      <td>177.146</td>\n",
       "      <td>0.00</td>\n",
       "      <td>0.00</td>\n",
       "    </tr>\n",
       "    <tr>\n",
       "      <th>1959Q2</th>\n",
       "      <td>2778.801</td>\n",
       "      <td>1733.7</td>\n",
       "      <td>310.859</td>\n",
       "      <td>481.301</td>\n",
       "      <td>1919.7</td>\n",
       "      <td>29.15</td>\n",
       "      <td>141.7</td>\n",
       "      <td>3.08</td>\n",
       "      <td>5.1</td>\n",
       "      <td>177.830</td>\n",
       "      <td>2.34</td>\n",
       "      <td>0.74</td>\n",
       "    </tr>\n",
       "    <tr>\n",
       "      <th>1959Q3</th>\n",
       "      <td>2775.488</td>\n",
       "      <td>1751.8</td>\n",
       "      <td>289.226</td>\n",
       "      <td>491.260</td>\n",
       "      <td>1916.4</td>\n",
       "      <td>29.35</td>\n",
       "      <td>140.5</td>\n",
       "      <td>3.82</td>\n",
       "      <td>5.3</td>\n",
       "      <td>178.657</td>\n",
       "      <td>2.74</td>\n",
       "      <td>1.09</td>\n",
       "    </tr>\n",
       "    <tr>\n",
       "      <th>1959Q4</th>\n",
       "      <td>2785.204</td>\n",
       "      <td>1753.7</td>\n",
       "      <td>299.356</td>\n",
       "      <td>484.052</td>\n",
       "      <td>1931.3</td>\n",
       "      <td>29.37</td>\n",
       "      <td>140.0</td>\n",
       "      <td>4.33</td>\n",
       "      <td>5.6</td>\n",
       "      <td>179.386</td>\n",
       "      <td>0.27</td>\n",
       "      <td>4.06</td>\n",
       "    </tr>\n",
       "    <tr>\n",
       "      <th>1960Q1</th>\n",
       "      <td>2847.699</td>\n",
       "      <td>1770.5</td>\n",
       "      <td>331.722</td>\n",
       "      <td>462.199</td>\n",
       "      <td>1955.5</td>\n",
       "      <td>29.54</td>\n",
       "      <td>139.6</td>\n",
       "      <td>3.50</td>\n",
       "      <td>5.2</td>\n",
       "      <td>180.007</td>\n",
       "      <td>2.31</td>\n",
       "      <td>1.19</td>\n",
       "    </tr>\n",
       "  </tbody>\n",
       "</table>\n",
       "</div>"
      ],
      "text/plain": [
       "         realgdp  realcons  realinv  realgovt  realdpi    cpi     m1  \\\n",
       "date                                                                   \n",
       "1959Q1  2710.349    1707.4  286.898   470.045   1886.9  28.98  139.7   \n",
       "1959Q2  2778.801    1733.7  310.859   481.301   1919.7  29.15  141.7   \n",
       "1959Q3  2775.488    1751.8  289.226   491.260   1916.4  29.35  140.5   \n",
       "1959Q4  2785.204    1753.7  299.356   484.052   1931.3  29.37  140.0   \n",
       "1960Q1  2847.699    1770.5  331.722   462.199   1955.5  29.54  139.6   \n",
       "\n",
       "        tbilrate  unemp      pop  infl  realint  \n",
       "date                                             \n",
       "1959Q1      2.82    5.8  177.146  0.00     0.00  \n",
       "1959Q2      3.08    5.1  177.830  2.34     0.74  \n",
       "1959Q3      3.82    5.3  178.657  2.74     1.09  \n",
       "1959Q4      4.33    5.6  179.386  0.27     4.06  \n",
       "1960Q1      3.50    5.2  180.007  2.31     1.19  "
      ]
     },
     "execution_count": 9,
     "metadata": {},
     "output_type": "execute_result"
    }
   ],
   "source": [
    "import statsmodels.api as sm\n",
    "\n",
    "# Load the Longley dataset using statsmodels\n",
    "dataset = sm.datasets.macrodata.load_pandas()\n",
    "df = dataset.data\n",
    "df[\"year\"] = df[\"year\"].astype(int)\n",
    "df[\"quarter\"] = df[\"quarter\"].astype(int)\n",
    "\n",
    "# Create a datetime column\n",
    "df[\"date\"] = pd.to_datetime(df[\"year\"].astype(str) + \"Q\" + df[\"quarter\"].astype(str))\n",
    "\n",
    "# Set the datetime column as the index\n",
    "df.set_index(\"date\", inplace=True)\n",
    "\n",
    "# Convert the datetime index to a period index with quarterly frequency\n",
    "df.index = df.index.to_period(\"Q\")\n",
    "\n",
    "# Drop the original year and quarter columns if no longer needed\n",
    "df.drop(columns=[\"year\", \"quarter\"], inplace=True)\n",
    "\n",
    "df.head()"
   ]
  },
  {
   "cell_type": "code",
   "execution_count": 10,
   "metadata": {},
   "outputs": [],
   "source": [
    "# Split the data into training and testing sets\n",
    "df_train, df_test = temporal_train_test_split(df, test_size=24)\n",
    "fh = ForecastingHorizon(df_test.index, is_relative=False)"
   ]
  },
  {
   "cell_type": "code",
   "execution_count": 11,
   "metadata": {},
   "outputs": [
    {
     "name": "stdout",
     "output_type": "stream",
     "text": [
      "Are the predictions from VARReduce and sktime VAR close?  True\n"
     ]
    }
   ],
   "source": [
    "# Define lags\n",
    "LAGS = 2\n",
    "\n",
    "# Instantiate and fit the custom VARReduce model\n",
    "varreduce_model = VARReduce(\n",
    "    lags=LAGS\n",
    ")  # no regressor passed, by default, LinearRegressor() will be used\n",
    "varreduce_model.fit(df_train)\n",
    "\n",
    "# Fit the VAR model comparison\n",
    "var_model = VAR(endog=df_train)\n",
    "\n",
    "# Fit the VAR model using statsmodels for comparison\n",
    "var_model = VAR(df_train)\n",
    "results = var_model.fit(LAGS)\n",
    "\n",
    "# Generating forecasts from both models\n",
    "y_pred_varreduce = varreduce_model.predict(fh=fh)\n",
    "y_pred_statsmodels = results.forecast(df_train.values[-LAGS:], steps=len(fh))\n",
    "\n",
    "# Compare predictions using numpy's allclose function\n",
    "epsilon = 1e-8\n",
    "predictions_are_close = np.allclose(y_pred_varreduce, y_pred_statsmodels, atol=epsilon)\n",
    "\n",
    "print(\n",
    "    \"Are the predictions from VARReduce and sktime VAR close? \", predictions_are_close\n",
    ")"
   ]
  },
  {
   "cell_type": "code",
   "execution_count": 37,
   "metadata": {},
   "outputs": [],
   "source": [
    "from sklearn.linear_model import Ridge\n",
    "\n",
    "# Instantiate and fit the custom VARReduce model\n",
    "varreduce_model = VARReduce(\n",
    "    lags=LAGS, regressor=Ridge(alpha=1000)\n",
    ")  # no regressor passed, by default, LinearRegressor() will be used\n",
    "varreduce_model.fit(df_train)\n",
    "\n",
    "# Fit the VAR model using statsmodels for comparison\n",
    "var_model = VAR(df_train)\n",
    "results = var_model.fit(LAGS)"
   ]
  },
  {
   "cell_type": "code",
   "execution_count": 38,
   "metadata": {},
   "outputs": [],
   "source": [
    "# Generating forecasts from both models\n",
    "df_pred_varreduce = varreduce_model.predict(fh=fh)\n",
    "df_pred_var = results.forecast(df_train.values[-LAGS:], steps=len(fh))\n",
    "df_pred_var = pd.DataFrame(df_pred_var, index=df_test.index, columns=df_test.columns)"
   ]
  },
  {
   "cell_type": "code",
   "execution_count": 39,
   "metadata": {},
   "outputs": [
    {
     "name": "stdout",
     "output_type": "stream",
     "text": [
      "MAPE for VARReduce model: 0.58\n",
      "MAPE for statsmodels VAR model: 0.69\n"
     ]
    }
   ],
   "source": [
    "# Calculate performance metrics for VARReduce\n",
    "mape_varreduce = mean_absolute_percentage_error(df_test, df_pred_varreduce)\n",
    "print(f\"MAPE for VARReduce model: {mape_varreduce:.2f}\")\n",
    "\n",
    "# Calculate performance metrics for statsmodels VAR\n",
    "mape_var = mean_absolute_percentage_error(df_test, df_pred_var)\n",
    "print(f\"MAPE for statsmodels VAR model: {mape_var:.2f}\")"
   ]
  },
  {
   "cell_type": "code",
   "execution_count": null,
   "metadata": {},
   "outputs": [],
   "source": []
  }
 ],
 "metadata": {
  "hide_input": false,
  "kernelspec": {
   "display_name": "base",
   "language": "python",
   "name": "python3"
  },
  "language_info": {
   "codemirror_mode": {
    "name": "ipython",
    "version": 3
   },
   "file_extension": ".py",
   "mimetype": "text/x-python",
   "name": "python",
   "nbconvert_exporter": "python",
   "pygments_lexer": "ipython3",
   "version": "3.9.19"
  },
  "toc": {
   "base_numbering": 1,
   "nav_menu": {},
   "number_sections": true,
   "sideBar": true,
   "skip_h1_title": false,
   "title_cell": "Table of Contents",
   "title_sidebar": "Contents",
   "toc_cell": false,
   "toc_position": {},
   "toc_section_display": true,
   "toc_window_display": false
  }
 },
 "nbformat": 4,
 "nbformat_minor": 2
}
