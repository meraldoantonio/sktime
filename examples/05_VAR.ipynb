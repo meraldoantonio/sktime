{
 "cells": [
  {
   "cell_type": "markdown",
   "metadata": {},
   "source": [
    "The purpose of this notebook is to showcase the use of the `regularizedVAR` model from `sktime`.\n",
    "We focus on its equivalence with `statsmodels`'s `VAR` model to affirm its implementation correctness."
   ]
  },
  {
   "cell_type": "code",
   "execution_count": 6,
   "metadata": {},
   "outputs": [],
   "source": [
    "import numpy as np\n",
    "import pandas as pd\n",
    "from statsmodels.tsa.api import VAR\n",
    "from sktime.forecasting.model_selection import temporal_train_test_split\n",
    "from sktime.forecasting.base import ForecastingHorizon\n",
    "from sktime.forecasting.regularized_var import RegularizedVAR"
   ]
  },
  {
   "cell_type": "markdown",
   "metadata": {},
   "source": [
    "# Data Generation"
   ]
  },
  {
   "cell_type": "markdown",
   "metadata": {},
   "source": [
    "First, we generate some synthetic multivariate time series data."
   ]
  },
  {
   "cell_type": "code",
   "execution_count": 7,
   "metadata": {},
   "outputs": [],
   "source": [
    "np.random.seed(42)\n",
    "n_obs = 100\n",
    "time_series_1 = np.random.randn(n_obs) + 1000\n",
    "time_series_2 = np.random.randn(n_obs) + 100\n",
    "time_series_3 = np.random.randn(n_obs) + 10\n",
    "\n",
    "y = pd.DataFrame({'ts1': time_series_1, 'ts2': time_series_2, 'ts3': time_series_3,})\n",
    "\n",
    "# Split the data into training and testing sets\n",
    "y_train, y_test = temporal_train_test_split(y, test_size=5)"
   ]
  },
  {
   "cell_type": "markdown",
   "metadata": {},
   "source": [
    "# Models Instatiation, Fitting and Forecasting"
   ]
  },
  {
   "cell_type": "markdown",
   "metadata": {},
   "source": [
    "We then instantiate both `RegularizedVAR` model (from `sktime`) and `VAR` model (from `statsmodels`).\n",
    "We fit both models to the training data and use them to forecast."
   ]
  },
  {
   "cell_type": "code",
   "execution_count": 8,
   "metadata": {},
   "outputs": [],
   "source": [
    "# Define the forecasting horizon and lags\n",
    "fh = ForecastingHorizon(y_test.index, is_relative=False)\n",
    "LAGS = 2\n",
    "\n",
    "# Instantiate and fit the custom RegularizedVAR model, use it for forecasting \n",
    "custom_var = RegularizedVAR(lags=LAGS, L1_penalty=0.0, L2_penalty=0.0) # no regularization applied\n",
    "custom_var.fit(y_train)\n",
    "y_pred_custom = custom_var.predict(fh=fh)\n",
    "\n",
    "# Fit the VAR model using statsmodels for comparison\n",
    "model = VAR(y_train)\n",
    "results = model.fit(LAGS)\n",
    "y_pred_statsmodels = results.forecast(y_train.values[-LAGS:], steps=len(fh))"
   ]
  },
  {
   "cell_type": "markdown",
   "metadata": {},
   "source": [
    "# Model Comparison"
   ]
  },
  {
   "cell_type": "markdown",
   "metadata": {},
   "source": [
    "We now compare both models in terms of the fitted coefficients as well as their forecasts.\n",
    "We see that they are essentially identical."
   ]
  },
  {
   "cell_type": "code",
   "execution_count": 9,
   "metadata": {},
   "outputs": [
    {
     "name": "stdout",
     "output_type": "stream",
     "text": [
      "Coefficients from custom VAR model:\n",
      "[[[-0.04379616 -0.14362626 -0.02868124]\n",
      "  [-0.02691002 -0.12388731 -0.09702357]\n",
      "  [-0.02884349 -0.12771343 -0.1133134 ]]\n",
      "\n",
      " [[-0.0488787  -0.0536462  -0.01244942]\n",
      "  [ 0.11919954 -0.05735081 -0.13221751]\n",
      "  [ 0.0930699   0.09744015 -0.0391535 ]]]\n",
      "\n",
      "Coefficients from statsmodels VAR:\n",
      "[[[-0.04379616 -0.14362626 -0.02868124]\n",
      "  [-0.02691002 -0.12388731 -0.09702357]\n",
      "  [-0.02884349 -0.12771343 -0.11331339]]\n",
      "\n",
      " [[-0.0488787  -0.0536462  -0.01244942]\n",
      "  [ 0.11919954 -0.05735081 -0.13221751]\n",
      "  [ 0.0930699   0.09744015 -0.0391535 ]]]\n"
     ]
    }
   ],
   "source": [
    "# Compare coefficients \n",
    "print(\"Coefficients from custom VAR model:\")\n",
    "print(custom_var.coefficients)\n",
    "print(\"\\nCoefficients from statsmodels VAR:\")\n",
    "print(results.coefs)"
   ]
  },
  {
   "cell_type": "code",
   "execution_count": 10,
   "metadata": {},
   "outputs": [
    {
     "name": "stdout",
     "output_type": "stream",
     "text": [
      "\n",
      "Intercept from custom VAR model:\n",
      "[1112.71314061   28.21219049  -49.62208191]\n",
      "\n",
      "Intercept from statsmodels VAR:\n",
      "[1112.71313927   28.21219144  -49.62208114]\n"
     ]
    }
   ],
   "source": [
    "# Compare intercepts\n",
    "print(\"\\nIntercept from custom VAR model:\")\n",
    "print(custom_var.intercept)\n",
    "print(\"\\nIntercept from statsmodels VAR:\")\n",
    "print(results.intercept)"
   ]
  },
  {
   "cell_type": "code",
   "execution_count": 11,
   "metadata": {},
   "outputs": [
    {
     "name": "stdout",
     "output_type": "stream",
     "text": [
      "\n",
      "Forecast from custom VAR model:\n",
      "           ts1         ts2        ts3\n",
      "95  999.954060   99.959997   9.815920\n",
      "96  999.918200  100.005662  10.046023\n",
      "97  999.907865  100.103676  10.047782\n",
      "98  999.890628  100.054323  10.027466\n",
      "99  999.894279  100.055787  10.045088\n",
      "\n",
      "Forecast from statsmodels:\n",
      "          ts1         ts2        ts3\n",
      "0  999.954060   99.959997   9.815920\n",
      "1  999.918200  100.005662  10.046023\n",
      "2  999.907865  100.103676  10.047782\n",
      "3  999.890628  100.054323  10.027466\n",
      "4  999.894279  100.055787  10.045088\n"
     ]
    }
   ],
   "source": [
    "# Compare forecasts\n",
    "print(\"\\nForecast from custom VAR model:\")\n",
    "print(pd.DataFrame(y_pred_custom, columns=y.columns))\n",
    "print(\"\\nForecast from statsmodels:\")\n",
    "print(pd.DataFrame(y_pred_statsmodels, columns=y.columns))"
   ]
  }
 ],
 "metadata": {
  "hide_input": false,
  "kernelspec": {
   "display_name": "base",
   "language": "python",
   "name": "python3"
  },
  "language_info": {
   "codemirror_mode": {
    "name": "ipython",
    "version": 3
   },
   "file_extension": ".py",
   "mimetype": "text/x-python",
   "name": "python",
   "nbconvert_exporter": "python",
   "pygments_lexer": "ipython3",
   "version": "3.9.19"
  },
  "toc": {
   "base_numbering": 1,
   "nav_menu": {},
   "number_sections": true,
   "sideBar": true,
   "skip_h1_title": false,
   "title_cell": "Table of Contents",
   "title_sidebar": "Contents",
   "toc_cell": false,
   "toc_position": {},
   "toc_section_display": true,
   "toc_window_display": false
  }
 },
 "nbformat": 4,
 "nbformat_minor": 2
}
